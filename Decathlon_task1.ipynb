{
 "cells": [
  {
   "cell_type": "code",
   "execution_count": 3,
   "metadata": {},
   "outputs": [],
   "source": [
    "#extract sport places in the neighborhood and store the output to json\n",
    "import pandas as pd\n",
    "import requests\n",
    "import json\n",
    "\n",
    "sport_place = list()\n",
    "\n",
    "df_store = pd.read_csv('store_dim.csv')\n",
    "count = 1\n",
    "\n",
    "for index, row in df_store.iterrows():\n",
    "    req = 'https://sportplaces.api.decathlon.com/api/v1/places?origin={},{}&radius=2'.format(str(row['store_lon_coordinates']), str(row['store_lat_coordinate']))\n",
    "    \n",
    "    res = requests.request('GET',req).json()\n",
    "        \n",
    "    sport_place.append(res)\n",
    "    \n",
    "    filename = 'store' + str(count) + '.json'\n",
    "    \n",
    "    file = open(filename, 'a')\n",
    "    \n",
    "    with open(filename, 'w') as json_file:\n",
    "        json.dump(res, json_file)\n",
    "    \n",
    "    count += 1"
   ]
  },
  {
   "cell_type": "code",
   "execution_count": 2,
   "metadata": {},
   "outputs": [],
   "source": []
  },
  {
   "cell_type": "code",
   "execution_count": null,
   "metadata": {},
   "outputs": [],
   "source": []
  }
 ],
 "metadata": {
  "kernelspec": {
   "display_name": "Python 3",
   "language": "python",
   "name": "python3"
  },
  "language_info": {
   "codemirror_mode": {
    "name": "ipython",
    "version": 3
   },
   "file_extension": ".py",
   "mimetype": "text/x-python",
   "name": "python",
   "nbconvert_exporter": "python",
   "pygments_lexer": "ipython3",
   "version": "3.8.3"
  }
 },
 "nbformat": 4,
 "nbformat_minor": 4
}
